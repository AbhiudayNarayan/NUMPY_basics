{
 "cells": [
  {
   "cell_type": "code",
   "id": "initial_id",
   "metadata": {
    "collapsed": true,
    "ExecuteTime": {
     "end_time": "2025-05-27T19:47:23.217067Z",
     "start_time": "2025-05-27T19:47:23.124501Z"
    }
   },
   "source": "import numpy as np\n",
   "outputs": [],
   "execution_count": 1
  },
  {
   "metadata": {
    "ExecuteTime": {
     "end_time": "2025-05-27T19:51:56.920656Z",
     "start_time": "2025-05-27T19:51:56.916870Z"
    }
   },
   "cell_type": "code",
   "source": [
    "a=np.array([1,2,3,4,5])\n",
    "b=np.array([6,7,8,9,10])\n",
    "c=np.array([11,12,13,14,15])\n",
    "d=np.array([16,17,18,19,20])\n",
    "e=np.array([21,22,23,24,25])\n",
    "f=np.array([26,27,28,29,30])\n",
    "mat = np.vstack([a,b,c,d,e,f])\n",
    "print(mat)"
   ],
   "id": "16a6ba75e9211c13",
   "outputs": [
    {
     "name": "stdout",
     "output_type": "stream",
     "text": [
      "[[ 1  2  3  4  5]\n",
      " [ 6  7  8  9 10]\n",
      " [11 12 13 14 15]\n",
      " [16 17 18 19 20]\n",
      " [21 22 23 24 25]\n",
      " [26 27 28 29 30]]\n"
     ]
    }
   ],
   "execution_count": 4
  },
  {
   "metadata": {},
   "cell_type": "code",
   "source": "mat[2:4,0:2]",
   "id": "b742652ed25ce20b",
   "outputs": [],
   "execution_count": null
  },
  {
   "metadata": {
    "ExecuteTime": {
     "end_time": "2025-05-27T20:08:26.558198Z",
     "start_time": "2025-05-27T20:08:26.550723Z"
    }
   },
   "cell_type": "code",
   "source": [
    "for i in range(0,5):\n",
    "    print(mat[i:i+1,i+1:i+2],end='\\n\\t')\n"
   ],
   "id": "85d8c1678b601b1f",
   "outputs": [
    {
     "name": "stdout",
     "output_type": "stream",
     "text": [
      "[[2]]\n",
      "\t[[8]]\n",
      "\t[[14]]\n",
      "\t[[20]]\n",
      "\t[]\n",
      "\t"
     ]
    }
   ],
   "execution_count": 21
  },
  {
   "metadata": {
    "ExecuteTime": {
     "end_time": "2025-05-27T20:11:10.410813Z",
     "start_time": "2025-05-27T20:11:10.404677Z"
    }
   },
   "cell_type": "code",
   "source": [
    "for i in range(0,5):\n",
    "    print(mat[i:i+1,i+3:i+5])"
   ],
   "id": "798f692f2753b9b4",
   "outputs": [
    {
     "name": "stdout",
     "output_type": "stream",
     "text": [
      "[[4 5]]\n",
      "[[10]]\n",
      "[]\n",
      "[]\n",
      "[]\n"
     ]
    }
   ],
   "execution_count": 23
  },
  {
   "metadata": {},
   "cell_type": "markdown",
   "source": "## 100 practice question",
   "id": "a98e3c29d439038e"
  },
  {
   "metadata": {},
   "cell_type": "code",
   "outputs": [],
   "execution_count": null,
   "source": "",
   "id": "90c7f1231696ce71"
  }
 ],
 "metadata": {
  "kernelspec": {
   "display_name": "Python 3",
   "language": "python",
   "name": "python3"
  },
  "language_info": {
   "codemirror_mode": {
    "name": "ipython",
    "version": 2
   },
   "file_extension": ".py",
   "mimetype": "text/x-python",
   "name": "python",
   "nbconvert_exporter": "python",
   "pygments_lexer": "ipython2",
   "version": "2.7.6"
  }
 },
 "nbformat": 4,
 "nbformat_minor": 5
}
