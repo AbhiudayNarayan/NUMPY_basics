{
 "cells": [
  {
   "metadata": {},
   "cell_type": "raw",
   "source": "",
   "id": "9380d8a951781ca0"
  },
  {
   "metadata": {
    "ExecuteTime": {
     "end_time": "2025-05-26T20:58:47.464407Z",
     "start_time": "2025-05-26T20:58:47.462054Z"
    }
   },
   "cell_type": "code",
   "source": "import numpy as np",
   "id": "a5d3af9859c41197",
   "outputs": [],
   "execution_count": 4
  },
  {
   "metadata": {},
   "cell_type": "markdown",
   "source": "## THE BASICS",
   "id": "e9dba5315a864b94"
  },
  {
   "metadata": {
    "ExecuteTime": {
     "end_time": "2025-05-26T20:58:47.481099Z",
     "start_time": "2025-05-26T20:58:47.478310Z"
    }
   },
   "cell_type": "code",
   "source": [
    "a = np.array([1,2,3,4,5],dtype='int16')\n",
    "print(a)"
   ],
   "id": "26925b67d834bc",
   "outputs": [
    {
     "name": "stdout",
     "output_type": "stream",
     "text": [
      "[1 2 3 4 5]\n"
     ]
    }
   ],
   "execution_count": 5
  },
  {
   "metadata": {
    "ExecuteTime": {
     "end_time": "2025-05-26T20:58:47.508456Z",
     "start_time": "2025-05-26T20:58:47.506180Z"
    }
   },
   "cell_type": "code",
   "source": [
    "b = np.array([[1,2,3,4,5] ,[6,7,8,9,10]])\n",
    "print(b)"
   ],
   "id": "badb6cc361e3ce17",
   "outputs": [
    {
     "name": "stdout",
     "output_type": "stream",
     "text": [
      "[[ 1  2  3  4  5]\n",
      " [ 6  7  8  9 10]]\n"
     ]
    }
   ],
   "execution_count": 6
  },
  {
   "metadata": {
    "ExecuteTime": {
     "end_time": "2025-05-26T20:58:47.633245Z",
     "start_time": "2025-05-26T20:58:47.628740Z"
    }
   },
   "cell_type": "code",
   "source": [
    "# GET DIMENSION\n",
    "a.ndim"
   ],
   "id": "4f8ed3818f8d9c31",
   "outputs": [
    {
     "data": {
      "text/plain": [
       "1"
      ]
     },
     "execution_count": 7,
     "metadata": {},
     "output_type": "execute_result"
    }
   ],
   "execution_count": 7
  },
  {
   "metadata": {
    "ExecuteTime": {
     "end_time": "2025-05-26T20:58:47.678863Z",
     "start_time": "2025-05-26T20:58:47.675237Z"
    }
   },
   "cell_type": "code",
   "source": [
    "# GET SHAPE\n",
    "a.shape"
   ],
   "id": "74c08d2b2350946e",
   "outputs": [
    {
     "data": {
      "text/plain": [
       "(5,)"
      ]
     },
     "execution_count": 8,
     "metadata": {},
     "output_type": "execute_result"
    }
   ],
   "execution_count": 8
  },
  {
   "metadata": {
    "ExecuteTime": {
     "end_time": "2025-05-26T20:58:47.714121Z",
     "start_time": "2025-05-26T20:58:47.710642Z"
    }
   },
   "cell_type": "code",
   "source": [
    "# data type\n",
    "print(a.dtype)\n",
    "print(b.dtype)"
   ],
   "id": "6e563ce8d7c40519",
   "outputs": [
    {
     "name": "stdout",
     "output_type": "stream",
     "text": [
      "int16\n",
      "int64\n"
     ]
    }
   ],
   "execution_count": 9
  },
  {
   "metadata": {
    "ExecuteTime": {
     "end_time": "2025-05-26T20:58:47.756755Z",
     "start_time": "2025-05-26T20:58:47.752054Z"
    }
   },
   "cell_type": "code",
   "source": [
    "#data size\n",
    "print(a.itemsize)\n",
    "b.itemsize"
   ],
   "id": "bbb1e09a3467364e",
   "outputs": [
    {
     "name": "stdout",
     "output_type": "stream",
     "text": [
      "2\n"
     ]
    },
    {
     "data": {
      "text/plain": [
       "8"
      ]
     },
     "execution_count": 10,
     "metadata": {},
     "output_type": "execute_result"
    }
   ],
   "execution_count": 10
  },
  {
   "metadata": {
    "ExecuteTime": {
     "end_time": "2025-05-26T20:58:47.783022Z",
     "start_time": "2025-05-26T20:58:47.778696Z"
    }
   },
   "cell_type": "code",
   "source": [
    "# total size of the vector\n",
    "print(a.nbytes)\n",
    "b.nbytes"
   ],
   "id": "ad3b4fde94e726f7",
   "outputs": [
    {
     "name": "stdout",
     "output_type": "stream",
     "text": [
      "10\n"
     ]
    },
    {
     "data": {
      "text/plain": [
       "80"
      ]
     },
     "execution_count": 11,
     "metadata": {},
     "output_type": "execute_result"
    }
   ],
   "execution_count": 11
  }
 ],
 "metadata": {
  "kernelspec": {
   "display_name": "Python 3",
   "language": "python",
   "name": "python3"
  },
  "language_info": {
   "codemirror_mode": {
    "name": "ipython",
    "version": 2
   },
   "file_extension": ".py",
   "mimetype": "text/x-python",
   "name": "python",
   "nbconvert_exporter": "python",
   "pygments_lexer": "ipython2",
   "version": "2.7.6"
  }
 },
 "nbformat": 4,
 "nbformat_minor": 5
}
