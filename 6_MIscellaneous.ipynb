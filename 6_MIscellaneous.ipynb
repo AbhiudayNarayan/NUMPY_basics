{
 "cells": [
  {
   "cell_type": "code",
   "id": "initial_id",
   "metadata": {
    "collapsed": true,
    "ExecuteTime": {
     "end_time": "2025-05-27T19:26:44.003765Z",
     "start_time": "2025-05-27T19:26:43.927922Z"
    }
   },
   "source": "import numpy as np\n",
   "outputs": [],
   "execution_count": 1
  },
  {
   "metadata": {},
   "cell_type": "markdown",
   "source": [
    "## Miscellaneous\n",
    "----\n",
    "#### Load data from a file"
   ],
   "id": "11f3e37ad99869e9"
  },
  {
   "metadata": {
    "ExecuteTime": {
     "end_time": "2025-05-27T19:40:14.533072Z",
     "start_time": "2025-05-27T19:40:14.527532Z"
    }
   },
   "cell_type": "code",
   "source": [
    "file_data = np.genfromtxt('dataset.txt', delimiter=',')\n",
    "print(file_data)"
   ],
   "id": "d417d354b47bb6e1",
   "outputs": [
    {
     "name": "stdout",
     "output_type": "stream",
     "text": [
      "[[  nan   nan   nan   nan]\n",
      " [172.5  68.2  25.   82.1]\n",
      " [160.1  55.4  30.   70. ]\n",
      " [185.3  90.5  45.   92.7]\n",
      " [177.   75.2  34.   88.5]\n",
      " [165.6  60.   28.   67.4]\n",
      " [158.9  52.1  22.   74. ]\n",
      " [190.2  85.3  40.   95.6]\n",
      " [153.   50.   19.   61.2]\n",
      " [169.7  72.8  33.   78.9]\n",
      " [174.8  65.4  26.   85.3]\n",
      " [180.   78.   29.   91. ]\n",
      " [162.3  58.6  27.   69.5]\n",
      " [166.4  63.3  38.   74.9]\n",
      " [157.8  54.1  24.   66. ]\n",
      " [176.9  70.5  36.   82.7]\n",
      " [188.   92.2  43.   89.4]\n",
      " [159.3  53.   21.   60. ]\n",
      " [170.5  66.7  32.   80.2]\n",
      " [175.6  73.9  31.   77.3]\n",
      " [183.7  88.6  41.   90.1]]\n"
     ]
    }
   ],
   "execution_count": 11
  },
  {
   "metadata": {},
   "cell_type": "markdown",
   "source": "#### Boolean Masking and Adavanced indexing",
   "id": "89ed19b781ecb7ff"
  },
  {
   "metadata": {},
   "cell_type": "code",
   "source": "file_data > 50",
   "id": "ccbaf757389fcc8b",
   "outputs": [],
   "execution_count": null
  },
  {
   "metadata": {
    "ExecuteTime": {
     "end_time": "2025-05-27T19:44:55.031946Z",
     "start_time": "2025-05-27T19:44:55.023814Z"
    }
   },
   "cell_type": "code",
   "source": "np.any(file_data > 50 ,axis=1)",
   "id": "5b493f019952190e",
   "outputs": [
    {
     "data": {
      "text/plain": [
       "array([False,  True,  True,  True,  True,  True,  True,  True,  True,\n",
       "        True,  True,  True,  True,  True,  True,  True,  True,  True,\n",
       "        True,  True,  True])"
      ]
     },
     "execution_count": 15,
     "metadata": {},
     "output_type": "execute_result"
    }
   ],
   "execution_count": 15
  },
  {
   "metadata": {
    "ExecuteTime": {
     "end_time": "2025-05-27T19:46:16.399756Z",
     "start_time": "2025-05-27T19:46:16.395524Z"
    }
   },
   "cell_type": "code",
   "source": "((file_data > 50) & (file_data < 100))",
   "id": "528e21d28a8e29bf",
   "outputs": [
    {
     "data": {
      "text/plain": [
       "array([[False, False, False, False],\n",
       "       [False,  True, False,  True],\n",
       "       [False,  True, False,  True],\n",
       "       [False,  True, False,  True],\n",
       "       [False,  True, False,  True],\n",
       "       [False,  True, False,  True],\n",
       "       [False,  True, False,  True],\n",
       "       [False,  True, False,  True],\n",
       "       [False, False, False,  True],\n",
       "       [False,  True, False,  True],\n",
       "       [False,  True, False,  True],\n",
       "       [False,  True, False,  True],\n",
       "       [False,  True, False,  True],\n",
       "       [False,  True, False,  True],\n",
       "       [False,  True, False,  True],\n",
       "       [False,  True, False,  True],\n",
       "       [False,  True, False,  True],\n",
       "       [False,  True, False,  True],\n",
       "       [False,  True, False,  True],\n",
       "       [False,  True, False,  True],\n",
       "       [False,  True, False,  True]])"
      ]
     },
     "execution_count": 19,
     "metadata": {},
     "output_type": "execute_result"
    }
   ],
   "execution_count": 19
  }
 ],
 "metadata": {
  "kernelspec": {
   "display_name": "Python 3",
   "language": "python",
   "name": "python3"
  },
  "language_info": {
   "codemirror_mode": {
    "name": "ipython",
    "version": 2
   },
   "file_extension": ".py",
   "mimetype": "text/x-python",
   "name": "python",
   "nbconvert_exporter": "python",
   "pygments_lexer": "ipython2",
   "version": "2.7.6"
  }
 },
 "nbformat": 4,
 "nbformat_minor": 5
}
