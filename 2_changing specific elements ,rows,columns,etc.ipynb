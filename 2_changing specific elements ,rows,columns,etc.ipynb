{
 "cells": [
  {
   "cell_type": "code",
   "id": "initial_id",
   "metadata": {
    "collapsed": true,
    "ExecuteTime": {
     "end_time": "2025-05-26T19:00:13.634091Z",
     "start_time": "2025-05-26T19:00:13.630892Z"
    }
   },
   "source": "import numpy as np\n",
   "outputs": [],
   "execution_count": 41
  },
  {
   "metadata": {
    "ExecuteTime": {
     "end_time": "2025-05-26T19:00:13.647106Z",
     "start_time": "2025-05-26T19:00:13.644245Z"
    }
   },
   "cell_type": "code",
   "source": [
    "a = np.array([[1,2,3,4,5,6,7],[8,9,10,11,12,13,14]])\n",
    "print(a)\n",
    "b= np.array([[1,2,3],[4,5,6],[7,8,9]])"
   ],
   "id": "657c50878c05c8a5",
   "outputs": [
    {
     "name": "stdout",
     "output_type": "stream",
     "text": [
      "[[ 1  2  3  4  5  6  7]\n",
      " [ 8  9 10 11 12 13 14]]\n"
     ]
    }
   ],
   "execution_count": 42
  },
  {
   "metadata": {},
   "cell_type": "markdown",
   "source": [
    "### TO GET A SPECIFIC ELEMENT\n",
    "----"
   ],
   "id": "160b0003bef8d8f5"
  },
  {
   "metadata": {
    "ExecuteTime": {
     "end_time": "2025-05-26T19:00:13.671478Z",
     "start_time": "2025-05-26T19:00:13.668211Z"
    }
   },
   "cell_type": "code",
   "source": "a[1,1]",
   "id": "1a01ed14ceb2c2cc",
   "outputs": [
    {
     "data": {
      "text/plain": [
       "np.int64(9)"
      ]
     },
     "execution_count": 43,
     "metadata": {},
     "output_type": "execute_result"
    }
   ],
   "execution_count": 43
  },
  {
   "metadata": {
    "ExecuteTime": {
     "end_time": "2025-05-26T19:00:13.705751Z",
     "start_time": "2025-05-26T19:00:13.702095Z"
    }
   },
   "cell_type": "code",
   "source": [
    "#GET a SPECIFIC ROW\n",
    "a[0,:]"
   ],
   "id": "33364b2fd956d164",
   "outputs": [
    {
     "data": {
      "text/plain": [
       "array([1, 2, 3, 4, 5, 6, 7])"
      ]
     },
     "execution_count": 44,
     "metadata": {},
     "output_type": "execute_result"
    }
   ],
   "execution_count": 44
  },
  {
   "metadata": {
    "ExecuteTime": {
     "end_time": "2025-05-26T19:00:13.725418Z",
     "start_time": "2025-05-26T19:00:13.721560Z"
    }
   },
   "cell_type": "code",
   "source": [
    "# GET A SPECIFIC COLUMN\n",
    "a[:,6]"
   ],
   "id": "5dc830f4500f071e",
   "outputs": [
    {
     "data": {
      "text/plain": [
       "array([ 7, 14])"
      ]
     },
     "execution_count": 45,
     "metadata": {},
     "output_type": "execute_result"
    }
   ],
   "execution_count": 45
  },
  {
   "metadata": {
    "ExecuteTime": {
     "end_time": "2025-05-26T19:00:13.745825Z",
     "start_time": "2025-05-26T19:00:13.742956Z"
    }
   },
   "cell_type": "code",
   "source": [
    "# step size array[row_index, column_start:column_end:step]\n",
    "print(a[0,1:6:2])\n",
    "print(a[1,1:6])"
   ],
   "id": "9dbeffcaf3c1364a",
   "outputs": [
    {
     "name": "stdout",
     "output_type": "stream",
     "text": [
      "[2 4 6]\n",
      "[ 9 10 11 12 13]\n"
     ]
    }
   ],
   "execution_count": 46
  },
  {
   "metadata": {},
   "cell_type": "markdown",
   "source": [
    "### REPLACING A NUMBER INSIDE THE MATRICE\n",
    "---"
   ],
   "id": "b9bc80d50c43c0ad"
  },
  {
   "metadata": {
    "ExecuteTime": {
     "end_time": "2025-05-26T19:00:13.771286Z",
     "start_time": "2025-05-26T19:00:13.768845Z"
    }
   },
   "cell_type": "code",
   "source": [
    "a[1,5]= 20\n",
    "print(a)"
   ],
   "id": "871c67c9cd650cdd",
   "outputs": [
    {
     "name": "stdout",
     "output_type": "stream",
     "text": [
      "[[ 1  2  3  4  5  6  7]\n",
      " [ 8  9 10 11 12 20 14]]\n"
     ]
    }
   ],
   "execution_count": 47
  },
  {
   "metadata": {
    "ExecuteTime": {
     "end_time": "2025-05-26T19:00:58.466406Z",
     "start_time": "2025-05-26T19:00:58.463873Z"
    }
   },
   "cell_type": "code",
   "source": [
    "b[1:,2] = 0\n",
    "print(b)"
   ],
   "id": "369fd91120eade7",
   "outputs": [
    {
     "name": "stdout",
     "output_type": "stream",
     "text": [
      "[[1 2 3]\n",
      " [4 5 0]\n",
      " [7 8 0]]\n"
     ]
    }
   ],
   "execution_count": 50
  },
  {
   "metadata": {},
   "cell_type": "markdown",
   "source": "* 3d example\n",
   "id": "cc9a3930d7449a07"
  },
  {
   "metadata": {
    "ExecuteTime": {
     "end_time": "2025-05-26T19:05:26.823909Z",
     "start_time": "2025-05-26T19:05:26.820683Z"
    }
   },
   "cell_type": "code",
   "source": [
    "c = np.array([[[1,23],[3,4]],[[5,6],[7,8]]])\n",
    "print(c)"
   ],
   "id": "c2b9b69f0cc405cb",
   "outputs": [
    {
     "name": "stdout",
     "output_type": "stream",
     "text": [
      "[[[1 2]\n",
      "  [3 4]]\n",
      "\n",
      " [[5 6]\n",
      "  [7 8]]]\n"
     ]
    }
   ],
   "execution_count": 54
  },
  {
   "metadata": {
    "ExecuteTime": {
     "end_time": "2025-05-26T19:21:03.809087Z",
     "start_time": "2025-05-26T19:21:03.805940Z"
    }
   },
   "cell_type": "code",
   "source": [
    "# work your way outside out\n",
    "print(c[0:1,:,0:1])"
   ],
   "id": "edf6b60d34a9abd0",
   "outputs": [
    {
     "name": "stdout",
     "output_type": "stream",
     "text": [
      "[[[1]\n",
      "  [3]]]\n"
     ]
    }
   ],
   "execution_count": 76
  },
  {
   "metadata": {},
   "cell_type": "markdown",
   "source": "## DETAIL BREAK DOWN OD SLICING IN 3D ARRAY",
   "id": "d9177bc402b48ad4"
  },
  {
   "metadata": {
    "ExecuteTime": {
     "end_time": "2025-05-26T19:29:08.650334Z",
     "start_time": "2025-05-26T19:29:08.646728Z"
    }
   },
   "cell_type": "code",
   "source": [
    "x = np.arange(2,56,2)\n",
    "x.resize(3,3,3)\n",
    "print(x)"
   ],
   "id": "dfdbc83e99e2f365",
   "outputs": [
    {
     "name": "stdout",
     "output_type": "stream",
     "text": [
      "[[[ 2  4  6]\n",
      "  [ 8 10 12]\n",
      "  [14 16 18]]\n",
      "\n",
      " [[20 22 24]\n",
      "  [26 28 30]\n",
      "  [32 34 36]]\n",
      "\n",
      " [[38 40 42]\n",
      "  [44 46 48]\n",
      "  [50 52 54]]]\n"
     ]
    }
   ],
   "execution_count": 77
  },
  {
   "metadata": {
    "ExecuteTime": {
     "end_time": "2025-05-26T19:31:58.626803Z",
     "start_time": "2025-05-26T19:31:58.622255Z"
    }
   },
   "cell_type": "code",
   "source": "x[0:2] # layer along z",
   "id": "2b4223cdd5c01b20",
   "outputs": [
    {
     "data": {
      "text/plain": [
       "array([[[ 2,  4,  6],\n",
       "        [ 8, 10, 12],\n",
       "        [14, 16, 18]],\n",
       "\n",
       "       [[20, 22, 24],\n",
       "        [26, 28, 30],\n",
       "        [32, 34, 36]]])"
      ]
     },
     "execution_count": 78,
     "metadata": {},
     "output_type": "execute_result"
    }
   ],
   "execution_count": 78
  },
  {
   "metadata": {
    "ExecuteTime": {
     "end_time": "2025-05-26T19:33:40.482465Z",
     "start_time": "2025-05-26T19:33:40.476356Z"
    }
   },
   "cell_type": "code",
   "source": "x[0:2,0:2] # rows",
   "id": "99adacde531a0950",
   "outputs": [
    {
     "data": {
      "text/plain": [
       "array([[[ 2,  4,  6],\n",
       "        [ 8, 10, 12]],\n",
       "\n",
       "       [[20, 22, 24],\n",
       "        [26, 28, 30]]])"
      ]
     },
     "execution_count": 79,
     "metadata": {},
     "output_type": "execute_result"
    }
   ],
   "execution_count": 79
  },
  {
   "metadata": {
    "ExecuteTime": {
     "end_time": "2025-05-26T19:35:25.311614Z",
     "start_time": "2025-05-26T19:35:25.308765Z"
    }
   },
   "cell_type": "code",
   "source": "x[0:2,0:2,0:2]",
   "id": "211d821317587fb7",
   "outputs": [
    {
     "data": {
      "text/plain": [
       "array([[[ 2,  4],\n",
       "        [ 8, 10]],\n",
       "\n",
       "       [[20, 22],\n",
       "        [26, 28]]])"
      ]
     },
     "execution_count": 80,
     "metadata": {},
     "output_type": "execute_result"
    }
   ],
   "execution_count": 80
  }
 ],
 "metadata": {
  "kernelspec": {
   "display_name": "Python 3",
   "language": "python",
   "name": "python3"
  },
  "language_info": {
   "codemirror_mode": {
    "name": "ipython",
    "version": 2
   },
   "file_extension": ".py",
   "mimetype": "text/x-python",
   "name": "python",
   "nbconvert_exporter": "python",
   "pygments_lexer": "ipython2",
   "version": "2.7.6"
  }
 },
 "nbformat": 4,
 "nbformat_minor": 5
}
