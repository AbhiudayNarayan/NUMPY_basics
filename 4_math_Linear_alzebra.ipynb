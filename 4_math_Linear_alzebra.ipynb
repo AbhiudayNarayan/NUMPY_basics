{
 "cells": [
  {
   "cell_type": "code",
   "id": "initial_id",
   "metadata": {
    "collapsed": true,
    "ExecuteTime": {
     "end_time": "2025-05-26T20:37:13.714097Z",
     "start_time": "2025-05-26T20:37:13.711525Z"
    }
   },
   "source": "import numpy as np",
   "outputs": [],
   "execution_count": 3
  },
  {
   "metadata": {},
   "cell_type": "markdown",
   "source": "### Linear Algebra",
   "id": "293363ea02b10d89"
  },
  {
   "metadata": {},
   "cell_type": "code",
   "source": [
    "a = np.ones((2,3))\n",
    "print(a)\n",
    "b = np.full((3,2),2)\n",
    "print(b)\n",
    "c= np.matmul(a,b)\n",
    "print(c)"
   ],
   "id": "a305b3e321344a1c",
   "outputs": [],
   "execution_count": null
  },
  {
   "metadata": {
    "ExecuteTime": {
     "end_time": "2025-05-26T20:44:05.035365Z",
     "start_time": "2025-05-26T20:44:05.031846Z"
    }
   },
   "cell_type": "code",
   "source": [
    "c = np.identity(3)\n",
    "det_c = np.linalg.det(c)\n",
    "print(det_c)\n",
    "inv_c = np.linalg.inv(c)\n",
    "print(inv_c)"
   ],
   "id": "2cdeace99c9b1316",
   "outputs": [
    {
     "name": "stdout",
     "output_type": "stream",
     "text": [
      "1.0\n",
      "[[1. 0. 0.]\n",
      " [0. 1. 0.]\n",
      " [0. 0. 1.]]\n"
     ]
    }
   ],
   "execution_count": 10
  },
  {
   "metadata": {},
   "cell_type": "markdown",
   "source": "#### STATISTICS\n",
   "id": "c0ae3aa3e476f47c"
  },
  {
   "metadata": {
    "ExecuteTime": {
     "end_time": "2025-05-26T20:50:38.208898Z",
     "start_time": "2025-05-26T20:50:38.205139Z"
    }
   },
   "cell_type": "code",
   "source": [
    "stats = np.random.randint(0,9,size=(3,3))\n",
    "print(stats)\n",
    "np.max(stats)"
   ],
   "id": "a58b6e7a3eeaf324",
   "outputs": [
    {
     "name": "stdout",
     "output_type": "stream",
     "text": [
      "[[0 6 7]\n",
      " [3 5 7]\n",
      " [8 2 4]]\n"
     ]
    },
    {
     "data": {
      "text/plain": [
       "np.int32(8)"
      ]
     },
     "execution_count": 23,
     "metadata": {},
     "output_type": "execute_result"
    }
   ],
   "execution_count": 23
  },
  {
   "metadata": {
    "ExecuteTime": {
     "end_time": "2025-05-26T20:51:14.958887Z",
     "start_time": "2025-05-26T20:51:14.954866Z"
    }
   },
   "cell_type": "code",
   "source": "np.min(stats,axis=0)",
   "id": "7dcd23d58566bd0f",
   "outputs": [
    {
     "data": {
      "text/plain": [
       "array([0, 2, 4], dtype=int32)"
      ]
     },
     "execution_count": 25,
     "metadata": {},
     "output_type": "execute_result"
    }
   ],
   "execution_count": 25
  }
 ],
 "metadata": {
  "kernelspec": {
   "display_name": "Python 3",
   "language": "python",
   "name": "python3"
  },
  "language_info": {
   "codemirror_mode": {
    "name": "ipython",
    "version": 2
   },
   "file_extension": ".py",
   "mimetype": "text/x-python",
   "name": "python",
   "nbconvert_exporter": "python",
   "pygments_lexer": "ipython2",
   "version": "2.7.6"
  }
 },
 "nbformat": 4,
 "nbformat_minor": 5
}
