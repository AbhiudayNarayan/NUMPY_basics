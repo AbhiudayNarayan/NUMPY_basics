{
 "cells": [
  {
   "metadata": {},
   "cell_type": "markdown",
   "source": "## INITALIZING DIFFERENT TYPES OF ARRAYS",
   "id": "aeb8cbdef7e3931f"
  },
  {
   "cell_type": "code",
   "id": "initial_id",
   "metadata": {
    "collapsed": true,
    "ExecuteTime": {
     "end_time": "2025-05-26T19:43:28.139016Z",
     "start_time": "2025-05-26T19:43:27.367643Z"
    }
   },
   "source": "import numpy as np\n",
   "outputs": [],
   "execution_count": 2
  },
  {
   "metadata": {},
   "cell_type": "markdown",
   "source": [
    "#### 2 → The number of blocks (first dimension)\n",
    "#### 3 → Each block contains 3 groups (second dimension)\n",
    "#### 3 → Each group contains 3 rows (third dimension)\n",
    "#### 2 → Each row contains 2 columns (fourth dimension)\n"
   ],
   "id": "30f6550cd5c56ca"
  },
  {
   "metadata": {},
   "cell_type": "code",
   "source": [
    "# All 0s matrices\n",
    "np.zeros((2,3,3,2))"
   ],
   "id": "cc09d6f246b7dabf",
   "outputs": [],
   "execution_count": null
  },
  {
   "metadata": {
    "ExecuteTime": {
     "end_time": "2025-05-26T19:53:48.552993Z",
     "start_time": "2025-05-26T19:53:48.549021Z"
    }
   },
   "cell_type": "code",
   "source": "np.full((2,3,3,2),99)",
   "id": "1e44fe81b26f14f3",
   "outputs": [
    {
     "data": {
      "text/plain": [
       "array([[[[99, 99],\n",
       "         [99, 99],\n",
       "         [99, 99]],\n",
       "\n",
       "        [[99, 99],\n",
       "         [99, 99],\n",
       "         [99, 99]],\n",
       "\n",
       "        [[99, 99],\n",
       "         [99, 99],\n",
       "         [99, 99]]],\n",
       "\n",
       "\n",
       "       [[[99, 99],\n",
       "         [99, 99],\n",
       "         [99, 99]],\n",
       "\n",
       "        [[99, 99],\n",
       "         [99, 99],\n",
       "         [99, 99]],\n",
       "\n",
       "        [[99, 99],\n",
       "         [99, 99],\n",
       "         [99, 99]]]])"
      ]
     },
     "execution_count": 16,
     "metadata": {},
     "output_type": "execute_result"
    }
   ],
   "execution_count": 16
  },
  {
   "metadata": {
    "ExecuteTime": {
     "end_time": "2025-05-26T19:58:28.229674Z",
     "start_time": "2025-05-26T19:58:28.225594Z"
    }
   },
   "cell_type": "code",
   "source": [
    "# random decimal numbers\n",
    "np.random.rand(2,3,3,2)"
   ],
   "id": "824221252a8db4f2",
   "outputs": [
    {
     "data": {
      "text/plain": [
       "array([[[[0.74282643, 0.40899616],\n",
       "         [0.23189595, 0.68483686],\n",
       "         [0.67748104, 0.8809182 ]],\n",
       "\n",
       "        [[0.46368338, 0.13959434],\n",
       "         [0.80434838, 0.99677534],\n",
       "         [0.79935525, 0.21982414]],\n",
       "\n",
       "        [[0.58283447, 0.71422894],\n",
       "         [0.48638463, 0.35600538],\n",
       "         [0.56187774, 0.37289642]]],\n",
       "\n",
       "\n",
       "       [[[0.24065417, 0.57289916],\n",
       "         [0.13087374, 0.28595652],\n",
       "         [0.75544311, 0.70836436]],\n",
       "\n",
       "        [[0.4791383 , 0.31472151],\n",
       "         [0.14013287, 0.89291925],\n",
       "         [0.13754432, 0.26615381]],\n",
       "\n",
       "        [[0.70168336, 0.90947951],\n",
       "         [0.60458008, 0.5214481 ],\n",
       "         [0.50692451, 0.91422179]]]])"
      ]
     },
     "execution_count": 20,
     "metadata": {},
     "output_type": "execute_result"
    }
   ],
   "execution_count": 20
  },
  {
   "metadata": {
    "ExecuteTime": {
     "end_time": "2025-05-26T20:03:57.219015Z",
     "start_time": "2025-05-26T20:03:57.216529Z"
    }
   },
   "cell_type": "code",
   "source": "print(np.random.randint(7,size=(3,3)))",
   "id": "a591e5109506ae6",
   "outputs": [
    {
     "name": "stdout",
     "output_type": "stream",
     "text": [
      "[[1 3 2]\n",
      " [4 3 2]\n",
      " [2 5 6]]\n"
     ]
    }
   ],
   "execution_count": 38
  },
  {
   "metadata": {
    "ExecuteTime": {
     "end_time": "2025-05-26T20:06:31.496429Z",
     "start_time": "2025-05-26T20:06:31.493894Z"
    }
   },
   "cell_type": "code",
   "source": "print(np.identity(5))",
   "id": "a5aaf93796f524f8",
   "outputs": [
    {
     "name": "stdout",
     "output_type": "stream",
     "text": [
      "[[1. 0. 0. 0. 0.]\n",
      " [0. 1. 0. 0. 0.]\n",
      " [0. 0. 1. 0. 0.]\n",
      " [0. 0. 0. 1. 0.]\n",
      " [0. 0. 0. 0. 1.]]\n"
     ]
    }
   ],
   "execution_count": 41
  },
  {
   "metadata": {
    "ExecuteTime": {
     "end_time": "2025-05-26T20:08:47.367626Z",
     "start_time": "2025-05-26T20:08:47.364929Z"
    }
   },
   "cell_type": "code",
   "source": [
    "#  repeat an array\n",
    "arr = np.array([[1,2,3]])\n",
    "r1 =np.repeat(arr,2,axis=0)\n",
    "print(r1)"
   ],
   "id": "3251fbd6c2f54a68",
   "outputs": [
    {
     "name": "stdout",
     "output_type": "stream",
     "text": [
      "[[1 2 3]\n",
      " [1 2 3]]\n"
     ]
    }
   ],
   "execution_count": 44
  },
  {
   "metadata": {},
   "cell_type": "code",
   "outputs": [],
   "execution_count": null,
   "source": "",
   "id": "b93e21f3a32b5800"
  },
  {
   "metadata": {},
   "cell_type": "markdown",
   "source": [
    "#### PRACTICE QUESTION\n",
    "     1 1 1 1 1\n",
    "     1 0 0 0 1\n",
    "     1 0 9 0 1\n",
    "     1 0 0 0 1\n",
    "     1 1 1 1 1\n",
    "---\n",
    "- output = np.ones((5,5),dtype='int32')\n",
    "- print(output)\n",
    "- z = np.zeros((3,3))\n",
    "- z[1,1]=9\n",
    "- output[1:4 ,1:4] = z\n",
    "- print(output)"
   ],
   "id": "66a0c872967cc8ec"
  },
  {
   "metadata": {
    "ExecuteTime": {
     "end_time": "2025-05-26T20:19:10.075270Z",
     "start_time": "2025-05-26T20:19:10.072301Z"
    }
   },
   "cell_type": "code",
   "source": [
    "output = np.ones((5,5),dtype='int32')\n",
    "output[1:4,1:4] = 0\n",
    "output[2,2] = 9\n",
    "print(output)"
   ],
   "id": "d2e106785aac3a0b",
   "outputs": [
    {
     "name": "stdout",
     "output_type": "stream",
     "text": [
      "[[1 1 1 1 1]\n",
      " [1 0 0 0 1]\n",
      " [1 0 9 0 1]\n",
      " [1 0 0 0 1]\n",
      " [1 1 1 1 1]]\n"
     ]
    }
   ],
   "execution_count": 54
  },
  {
   "metadata": {},
   "cell_type": "markdown",
   "source": "#### BE CAREFUL COPYING AN ARRAY",
   "id": "e2846e4af4c1f41b"
  },
  {
   "metadata": {
    "ExecuteTime": {
     "end_time": "2025-05-26T20:28:58.481524Z",
     "start_time": "2025-05-26T20:28:58.478258Z"
    }
   },
   "cell_type": "code",
   "source": [
    "a = np.array([1,2,3])\n",
    "b = a\n",
    "b[0] = 100\n",
    "print(b)"
   ],
   "id": "b46102ba599d539b",
   "outputs": [
    {
     "name": "stdout",
     "output_type": "stream",
     "text": [
      "[100   2   3]\n"
     ]
    }
   ],
   "execution_count": 56
  },
  {
   "metadata": {
    "ExecuteTime": {
     "end_time": "2025-05-26T20:29:49.356392Z",
     "start_time": "2025-05-26T20:29:49.353180Z"
    }
   },
   "cell_type": "code",
   "source": [
    "# correct way\n",
    "a = np.array([1,2,3])\n",
    "b = a.copy()\n",
    "b[0] = 100\n",
    "print(b)\n",
    "print(a)"
   ],
   "id": "fdbbea0a4b67e1b4",
   "outputs": [
    {
     "name": "stdout",
     "output_type": "stream",
     "text": [
      "[100   2   3]\n",
      "[1 2 3]\n"
     ]
    }
   ],
   "execution_count": 57
  },
  {
   "metadata": {},
   "cell_type": "markdown",
   "source": "#### MATHEMATICS\n",
   "id": "77e8690e10d3b005"
  },
  {
   "metadata": {
    "ExecuteTime": {
     "end_time": "2025-05-26T20:33:03.841390Z",
     "start_time": "2025-05-26T20:33:03.838245Z"
    }
   },
   "cell_type": "code",
   "source": [
    "mat = np.array([1,2,3,4])\n",
    "print(mat)"
   ],
   "id": "7fda36ea91e646f7",
   "outputs": [
    {
     "name": "stdout",
     "output_type": "stream",
     "text": [
      "[1 2 3 4]\n"
     ]
    }
   ],
   "execution_count": 68
  },
  {
   "metadata": {
    "ExecuteTime": {
     "end_time": "2025-05-26T20:33:05.972640Z",
     "start_time": "2025-05-26T20:33:05.970120Z"
    }
   },
   "cell_type": "code",
   "source": [
    "mat = mat+2\n",
    "print(mat)"
   ],
   "id": "60112f4c78ab735",
   "outputs": [
    {
     "name": "stdout",
     "output_type": "stream",
     "text": [
      "[3 4 5 6]\n"
     ]
    }
   ],
   "execution_count": 69
  },
  {
   "metadata": {
    "ExecuteTime": {
     "end_time": "2025-05-26T20:33:35.957499Z",
     "start_time": "2025-05-26T20:33:35.954707Z"
    }
   },
   "cell_type": "code",
   "source": [
    "mat = mat-2\n",
    "print(mat)"
   ],
   "id": "d0977b61e9976c68",
   "outputs": [
    {
     "name": "stdout",
     "output_type": "stream",
     "text": [
      "[-1  0  1  2]\n"
     ]
    }
   ],
   "execution_count": 71
  },
  {
   "metadata": {
    "ExecuteTime": {
     "end_time": "2025-05-26T20:33:52.965245Z",
     "start_time": "2025-05-26T20:33:52.962323Z"
    }
   },
   "cell_type": "code",
   "source": [
    "mat = mat *2\n",
    "print(mat)"
   ],
   "id": "c8a62d3670a2cd21",
   "outputs": [
    {
     "name": "stdout",
     "output_type": "stream",
     "text": [
      "[-4  0  4  8]\n"
     ]
    }
   ],
   "execution_count": 73
  },
  {
   "metadata": {
    "ExecuteTime": {
     "end_time": "2025-05-26T20:34:36.072599Z",
     "start_time": "2025-05-26T20:34:36.069850Z"
    }
   },
   "cell_type": "code",
   "source": [
    "mat= mat/2\n",
    "print(mat)"
   ],
   "id": "ae78f9b4d2ecc1f0",
   "outputs": [
    {
     "name": "stdout",
     "output_type": "stream",
     "text": [
      "[-1.  0.  1.  2.]\n"
     ]
    }
   ],
   "execution_count": 75
  },
  {
   "metadata": {
    "ExecuteTime": {
     "end_time": "2025-05-26T20:35:30.274056Z",
     "start_time": "2025-05-26T20:35:30.270870Z"
    }
   },
   "cell_type": "code",
   "source": [
    "mat = mat**2\n",
    "print(mat)"
   ],
   "id": "53b88f1e374b8e8b",
   "outputs": [
    {
     "name": "stdout",
     "output_type": "stream",
     "text": [
      "[ 4.  0.  4. 16.]\n"
     ]
    }
   ],
   "execution_count": 78
  }
 ],
 "metadata": {
  "kernelspec": {
   "display_name": "Python 3",
   "language": "python",
   "name": "python3"
  },
  "language_info": {
   "codemirror_mode": {
    "name": "ipython",
    "version": 2
   },
   "file_extension": ".py",
   "mimetype": "text/x-python",
   "name": "python",
   "nbconvert_exporter": "python",
   "pygments_lexer": "ipython2",
   "version": "2.7.6"
  }
 },
 "nbformat": 4,
 "nbformat_minor": 5
}
