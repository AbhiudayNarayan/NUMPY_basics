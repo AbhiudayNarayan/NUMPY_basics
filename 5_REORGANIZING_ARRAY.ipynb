{
 "cells": [
  {
   "cell_type": "code",
   "id": "initial_id",
   "metadata": {
    "collapsed": true,
    "ExecuteTime": {
     "end_time": "2025-05-27T19:20:08.090307Z",
     "start_time": "2025-05-27T19:20:07.314377Z"
    }
   },
   "source": "import numpy as np\n",
   "outputs": [],
   "execution_count": 2
  },
  {
   "metadata": {},
   "cell_type": "markdown",
   "source": "#### REORGANIZING ARRAYS",
   "id": "c069e2482fe14c38"
  },
  {
   "metadata": {
    "SqlCellData": {
     "variableName$1": "df_sql1"
    }
   },
   "cell_type": "code",
   "outputs": [],
   "execution_count": null,
   "source": "%%sql\n",
   "id": "4a09230bd47f4e74"
  },
  {
   "metadata": {
    "ExecuteTime": {
     "end_time": "2025-05-26T20:59:48.101639Z",
     "start_time": "2025-05-26T20:59:48.098176Z"
    }
   },
   "cell_type": "code",
   "source": [
    "before = np.array([[1,2,3,4],[5,6,7,8]])\n",
    "print(before)\n",
    "\n",
    "after = before.reshape((4,2))\n",
    "print(after)"
   ],
   "id": "d28bd507bae194e7",
   "outputs": [
    {
     "name": "stdout",
     "output_type": "stream",
     "text": [
      "[[1 2 3 4]\n",
      " [5 6 7 8]]\n",
      "[[1 2]\n",
      " [3 4]\n",
      " [5 6]\n",
      " [7 8]]\n"
     ]
    }
   ],
   "execution_count": 13
  },
  {
   "metadata": {},
   "cell_type": "markdown",
   "source": "#### vertically stacking vectors",
   "id": "f4e8e73359f5ea80"
  },
  {
   "metadata": {
    "ExecuteTime": {
     "end_time": "2025-05-27T19:21:07.335058Z",
     "start_time": "2025-05-27T19:21:07.331711Z"
    }
   },
   "cell_type": "code",
   "source": [
    "v1 = np.array([[1,2,33,43],[5,6,7,8]])\n",
    "v2 = np.array([[13,22,31,40],[50,61,2,32]])\n",
    "print(np.vstack([v1,v2,v2]))"
   ],
   "id": "d15db82d33b4c42a",
   "outputs": [
    {
     "name": "stdout",
     "output_type": "stream",
     "text": [
      "[[ 1  2 33 43]\n",
      " [ 5  6  7  8]\n",
      " [13 22 31 40]\n",
      " [50 61  2 32]\n",
      " [13 22 31 40]\n",
      " [50 61  2 32]]\n"
     ]
    }
   ],
   "execution_count": 5
  },
  {
   "metadata": {},
   "cell_type": "markdown",
   "source": "### horizontal staking",
   "id": "9f90efb098d3bf35"
  },
  {
   "metadata": {
    "ExecuteTime": {
     "end_time": "2025-05-27T19:22:48.636561Z",
     "start_time": "2025-05-27T19:22:48.633150Z"
    }
   },
   "cell_type": "code",
   "source": [
    "h1 = np.array([[1,2],[2,3]])\n",
    "h2 = np.array([[5,6],[7,8]])\n",
    "print(np.hstack([h1,h2]))"
   ],
   "id": "21b4291b169a996d",
   "outputs": [
    {
     "name": "stdout",
     "output_type": "stream",
     "text": [
      "[[1 2 5 6]\n",
      " [2 3 7 8]]\n"
     ]
    }
   ],
   "execution_count": 7
  },
  {
   "metadata": {
    "ExecuteTime": {
     "end_time": "2025-05-27T19:23:57.767750Z",
     "start_time": "2025-05-27T19:23:57.764918Z"
    }
   },
   "cell_type": "code",
   "source": "h3= np.ones(3)",
   "id": "aed2bcbe07bf8bca",
   "outputs": [],
   "execution_count": 8
  }
 ],
 "metadata": {
  "kernelspec": {
   "display_name": "Python 3",
   "language": "python",
   "name": "python3"
  },
  "language_info": {
   "codemirror_mode": {
    "name": "ipython",
    "version": 2
   },
   "file_extension": ".py",
   "mimetype": "text/x-python",
   "name": "python",
   "nbconvert_exporter": "python",
   "pygments_lexer": "ipython2",
   "version": "2.7.6"
  }
 },
 "nbformat": 4,
 "nbformat_minor": 5
}
